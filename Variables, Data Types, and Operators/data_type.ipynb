{
 "cells": [
  {
   "cell_type": "markdown",
   "metadata": {},
   "source": [
    "For now, I know of 8 data types in python. They are\n",
    "\n",
    "1. Numeric (integer, float, complex)\n",
    "2. Sequence (string, list, tuple)\n",
    "3. Mapping (dictionary)\n",
    "4. Set (set, frozenset)\n",
    "5. Boolean (bool)\n",
    "6. Binary (bytes, bytearray, memoryview)\n",
    "7. None (none)\n",
    "8. Custom data type (class)\n",
    "9. Speciaized data types(range, frozenset, enum, datetime)\n",
    "10. Advanced data types (collection.deque, collection.namedtuple, collection.defaultdict, collection.counter)\n",
    "\n",
    "\n",
    "I will implement each data type examples in code cells below"
   ]
  },
  {
   "cell_type": "code",
   "execution_count": 32,
   "metadata": {},
   "outputs": [
    {
     "name": "stdout",
     "output_type": "stream",
     "text": [
      "3\n",
      "4.678\n",
      "(5+7j)\n",
      "<class 'int'>\n",
      "<class 'float'>\n",
      "<class 'complex'>\n"
     ]
    }
   ],
   "source": [
    "#Numeric\n",
    "x = 3\n",
    "y = 4.678\n",
    "z = 5 + 7j\n",
    "print(x)\n",
    "print(y)\n",
    "print(z)\n",
    "print(type(x))\n",
    "print(type(y))\n",
    "print(type(z))"
   ]
  },
  {
   "cell_type": "code",
   "execution_count": 33,
   "metadata": {},
   "outputs": [
    {
     "name": "stdout",
     "output_type": "stream",
     "text": [
      "Francis Anderson\n",
      "<class 'str'>\n"
     ]
    }
   ],
   "source": [
    "#String\n",
    "myname = \"Francis Anderson\"\n",
    "print(myname)\n",
    "print(type(myname))"
   ]
  },
  {
   "cell_type": "code",
   "execution_count": 34,
   "metadata": {},
   "outputs": [
    {
     "name": "stdout",
     "output_type": "stream",
     "text": [
      "True\n",
      "<class 'bool'>\n"
     ]
    }
   ],
   "source": [
    "#Boolean\n",
    "status = True\n",
    "print(status)\n",
    "print(type(status))"
   ]
  },
  {
   "cell_type": "code",
   "execution_count": 35,
   "metadata": {},
   "outputs": [
    {
     "name": "stdout",
     "output_type": "stream",
     "text": [
      "[1, 2, 3, 4, 5]\n",
      "<class 'list'>\n",
      "(1, 2, 3, 4, 5)\n",
      "<class 'tuple'>\n",
      "range(0, 10)\n",
      "<class 'range'>\n"
     ]
    }
   ],
   "source": [
    "#Sequence\n",
    "#List\n",
    "mylist = [1, 2, 3, 4, 5]\n",
    "print(mylist)\n",
    "print(type(mylist))\n",
    "\n",
    "#Tuple\n",
    "mytuple = (1, 2, 3, 4, 5)\n",
    "print(mytuple)\n",
    "print(type(mytuple))\n",
    "\n",
    "#Range\n",
    "myrange = range(10)\n",
    "print(myrange)\n",
    "print(type(myrange))\n"
   ]
  },
  {
   "cell_type": "code",
   "execution_count": 36,
   "metadata": {},
   "outputs": [
    {
     "name": "stdout",
     "output_type": "stream",
     "text": [
      "{'name': 'Francis', 'age': 25}\n",
      "<class 'dict'>\n"
     ]
    }
   ],
   "source": [
    "#Mapping\n",
    "#Dictionary\n",
    "mydict = {\"name\": \"Francis\", \"age\": 25}\n",
    "print(mydict)\n",
    "print(type(mydict))"
   ]
  },
  {
   "cell_type": "code",
   "execution_count": 37,
   "metadata": {},
   "outputs": [
    {
     "name": "stdout",
     "output_type": "stream",
     "text": [
      "{1, 2, 3, 4, 5}\n",
      "<class 'set'>\n",
      "frozenset({1, 2, 3, 4, 5})\n",
      "<class 'frozenset'>\n"
     ]
    }
   ],
   "source": [
    "#Set types\n",
    "#Set\n",
    "myset = {1, 2, 3, 4, 5}\n",
    "print(myset)\n",
    "print(type(myset))\n",
    "\n",
    "#Frozenset\n",
    "myfrozenset = frozenset({1, 2, 3, 4, 5})\n",
    "print(myfrozenset)\n",
    "print(type(myfrozenset))"
   ]
  },
  {
   "cell_type": "code",
   "execution_count": 38,
   "metadata": {},
   "outputs": [
    {
     "name": "stdout",
     "output_type": "stream",
     "text": [
      "b'Hello'\n",
      "<class 'bytes'>\n",
      "bytearray(b'\\x00\\x00\\x00\\x00\\x00')\n",
      "<class 'bytearray'>\n",
      "<memory at 0x000001458AAD9D80>\n",
      "<class 'memoryview'>\n"
     ]
    }
   ],
   "source": [
    "#Binary\n",
    "#Bytes\n",
    "mybytes = b\"Hello\"\n",
    "print(mybytes)\n",
    "print(type(mybytes))\n",
    "\n",
    "#Bytearray\n",
    "mybytearray = bytearray(5)\n",
    "print(mybytearray)\n",
    "print(type(mybytearray))\n",
    "\n",
    "#Memoryview\n",
    "mymemoryview = memoryview(b\"Hello\")\n",
    "print(mymemoryview)\n",
    "print(type(mymemoryview))"
   ]
  },
  {
   "cell_type": "code",
   "execution_count": 39,
   "metadata": {},
   "outputs": [
    {
     "name": "stdout",
     "output_type": "stream",
     "text": [
      "None\n",
      "<class 'NoneType'>\n"
     ]
    }
   ],
   "source": [
    "#None\n",
    "mynone = None\n",
    "print(mynone)\n",
    "print(type(mynone))"
   ]
  }
 ],
 "metadata": {
  "kernelspec": {
   "display_name": "Python 3",
   "language": "python",
   "name": "python3"
  },
  "language_info": {
   "codemirror_mode": {
    "name": "ipython",
    "version": 3
   },
   "file_extension": ".py",
   "mimetype": "text/x-python",
   "name": "python",
   "nbconvert_exporter": "python",
   "pygments_lexer": "ipython3",
   "version": "3.13.0"
  }
 },
 "nbformat": 4,
 "nbformat_minor": 2
}
